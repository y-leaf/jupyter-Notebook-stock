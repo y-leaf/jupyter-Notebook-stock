{
 "cells": [
  {
   "cell_type": "code",
   "execution_count": null,
   "metadata": {},
   "outputs": [],
   "source": [
    "# Insert project token@hidden_cell"
   ]
  },
  {
   "cell_type": "code",
   "execution_count": null,
   "metadata": {},
   "outputs": [],
   "source": [
    "import datetime \n",
    "\n",
    "import IPython.display\n",
    "import matplotlib\n",
    "import matplotlib.pyplot as plt\n",
    "import numpy as np\n",
    "import sklearn\n",
    "import sklearn.linear_model\n",
    "import sklearn.model_selection"
   ]
  },
  {
   "cell_type": "code",
   "execution_count": null,
   "metadata": {},
   "outputs": [],
   "source": [
    "pip install pandas_datareader"
   ]
  },
  {
   "cell_type": "code",
   "execution_count": null,
   "metadata": {},
   "outputs": [],
   "source": [
    "import pandas_datareader"
   ]
  },
  {
   "cell_type": "code",
   "execution_count": null,
   "metadata": {},
   "outputs": [],
   "source": [
    "# Data here - IBM, Amazon, and Microfost\n",
    "# DWH\n",
    "df_ibm = pandas_datareader.data.DataReader('IBM',  'yahoo', '2018-01-01')\n",
    "df_amzn = pandas_datareader.data.DataReader('AMZN',  'yahoo', '2018-01-01')\n",
    "df_msft = pandas_datareader.data.DataReader('MSFT',  'yahoo', '2018-01-01')"
   ]
  },
  {
   "cell_type": "code",
   "execution_count": null,
   "metadata": {},
   "outputs": [],
   "source": [
    "df_ibm.tail(3)"
   ]
  },
  {
   "cell_type": "code",
   "execution_count": null,
   "metadata": {},
   "outputs": [],
   "source": [
    "project.save_data(\"stock_ibm.csv\", df_ibm.to_csv(), overwrite=True)"
   ]
  },
  {
   "cell_type": "code",
   "execution_count": null,
   "metadata": {},
   "outputs": [],
   "source": [
    "df_amzn.tail(3)"
   ]
  },
  {
   "cell_type": "code",
   "execution_count": null,
   "metadata": {},
   "outputs": [],
   "source": [
    "project.save_data(\"stock_amzn.csv\", df_amzn.to_csv(), overwrite=True)"
   ]
  },
  {
   "cell_type": "code",
   "execution_count": null,
   "metadata": {},
   "outputs": [],
   "source": [
    "df_msft.tail(3)"
   ]
  },
  {
   "cell_type": "code",
   "execution_count": null,
   "metadata": {},
   "outputs": [],
   "source": [
    "project.save_data(\"stock_msft.csv\", df_msft.to_csv(), overwrite=True)"
   ]
  },
  {
   "cell_type": "code",
   "execution_count": null,
   "metadata": {},
   "outputs": [],
   "source": [
    "# Simple Moving Average\n",
    "df_ibm['SMA'] = df_ibm['Close'].rolling(window=14).mean()\n",
    "df_ibm['Close'].plot(figsize=(15,6), color=\"red\")\n",
    "df_ibm['SMA'].plot(figsize=(15,6), color=\"green\")\n",
    "plt.show()"
   ]
  },
  {
   "cell_type": "code",
   "execution_count": null,
   "metadata": {},
   "outputs": [],
   "source": [
    "# Data mining\n",
    "df_ibm['change'] = (((df_ibm['Close'] - df_ibm['Open'])) / (df_ibm['Open']) * 100)\n",
    "df_amzn['change'] = (((df_amzn['Close'] - df_amzn['Open'])) / (df_amzn['Open']) * 100)\n",
    "df_msft['change'] = (((df_msft['Close'] - df_msft['Open'])) / (df_msft['Open']) * 100)\n",
    "df_ibm.tail(2).round(2)"
   ]
  },
  {
   "cell_type": "code",
   "execution_count": null,
   "metadata": {},
   "outputs": [],
   "source": [
    "df_ibm['Close'].plot(figsize=(15,6), color=\"blue\")\n",
    "df_amzn['Close'].plot(figsize=(15,6), color=\"orange\")\n",
    "plt.show()"
   ]
  },
  {
   "cell_type": "code",
   "execution_count": null,
   "metadata": {},
   "outputs": [],
   "source": [
    "df_ibm['Close'].plot(figsize=(15,6), color=\"blue\")\n",
    "df_msft['Close'].plot(figsize=(15,6), color=\"green\")\n",
    "plt.show()"
   ]
  },
  {
   "cell_type": "code",
   "execution_count": null,
   "metadata": {},
   "outputs": [],
   "source": [
    "df_ibm['change'].tail(100).plot(grid=True, figsize=(15,6), color=\"blue\")\n",
    "df_amzn['change'].tail(100).plot(grid=True, figsize=(15,6), color=\"orange\")\n",
    "df_msft['change'].tail(100).plot(grid=True, figsize=(15,6), color=\"green\")\n",
    "plt.show()"
   ]
  },
  {
   "cell_type": "code",
   "execution_count": null,
   "metadata": {},
   "outputs": [],
   "source": [
    "# Machine learning\n",
    "df_ibm['label'] = df_ibm['Close'].shift(-30)\n",
    "df_ibm.tail(40)"
   ]
  },
  {
   "cell_type": "code",
   "execution_count": null,
   "metadata": {},
   "outputs": [],
   "source": [
    "X = np.array(df_ibm.drop(['label', 'SMA'], axis=1))\n",
    "X = sklearn.preprocessing.scale(X)\n",
    "\n",
    "predict_data = X[-30:]\n",
    "X = X[:-30]\n",
    "y = np.array(df_ibm['label'])\n",
    "y = y[:-30]\n",
    "\n",
    "X_train, X_test, y_train, y_test = sklearn.model_selection.train_test_split(\n",
    "    X, y, test_size = 0.2)\n",
    "\n",
    "lr = sklearn.linear_model.LinearRegression()\n",
    "lr.fit(X_train,y_train)\n",
    "\n",
    "accuracy = lr.score(X_test, y_test)\n",
    "accuracy"
   ]
  },
  {
   "cell_type": "code",
   "execution_count": null,
   "metadata": {},
   "outputs": [],
   "source": [
    "predicted_data = lr.predict(predict_data)\n",
    "predicted_data"
   ]
  },
  {
   "cell_type": "code",
   "execution_count": null,
   "metadata": {},
   "outputs": [],
   "source": [
    "df_ibm['Predict'] = np.nan\n",
    "\n",
    "last_date = df_ibm.iloc[-1].name\n",
    "\n",
    "one_day = 86400\n",
    "next_unix = last_date.timestamp() + one_day\n",
    "\n",
    "for data in predicted_data:\n",
    "    next_date = datetime.datetime.fromtimestamp(next_unix)\n",
    "    next_unix += one_day\n",
    "    df_ibm.loc[next_date] = np.append([np.nan]* (len(df_ibm.columns)-1), data)\n",
    "\n",
    "df_ibm['Close'].plot(figsize=(15,6), color=\"blue\")\n",
    "df_ibm['Predict'].plot(figsize=(15,6), color=\"pink\")\n",
    "plt.show()"
   ]
  },
  {
   "cell_type": "code",
   "execution_count": null,
   "metadata": {},
   "outputs": [],
   "source": [
    "project.save_data(\"stock_ibm_future.csv\", df_ibm['Predict'].to_csv(), overwrite=True)"
   ]
  }
 ],
 "metadata": {
  "kernelspec": {
   "display_name": "Python 3.7",
   "language": "python",
   "name": "python3"
  },
  "language_info": {
   "codemirror_mode": {
    "name": "ipython",
    "version": 3
   },
   "file_extension": ".py",
   "mimetype": "text/x-python",
   "name": "python",
   "nbconvert_exporter": "python",
   "pygments_lexer": "ipython3",
   "version": "3.7.9"
  }
 },
 "nbformat": 4,
 "nbformat_minor": 2
}
